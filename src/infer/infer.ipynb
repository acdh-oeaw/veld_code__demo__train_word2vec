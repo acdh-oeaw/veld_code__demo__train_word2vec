{
 "cells": [
  {
   "cell_type": "markdown",
   "id": "72f562f7-5758-42b4-8597-ad11ee226e0f",
   "metadata": {},
   "source": [
    "## Inference on bible\n",
    "\n",
    "This notebook shows the relatedness of the words `\"god\", \"jesus\", \"mary\", \"joseph\", \"woman\", \"man\"` in the bible."
   ]
  },
  {
   "cell_type": "code",
   "execution_count": null,
   "id": "df358d0e-da07-41cc-9dc7-7103caa1a2e4",
   "metadata": {},
   "outputs": [],
   "source": [
    "import gensim\n",
    "import os\n",
    "import matplotlib.pyplot as plt\n",
    "from sklearn.decomposition import PCA\n",
    "from sklearn.manifold import TSNE"
   ]
  },
  {
   "cell_type": "code",
   "execution_count": null,
   "id": "dfda73d6-601b-41d6-be5e-45c28cdc49ff",
   "metadata": {},
   "outputs": [],
   "source": [
    "MODEL_PATH = \"/veld/input/\" + os.getenv(\"in_model_file\")\n",
    "model = gensim.models.Word2Vec.load(MODEL_PATH)"
   ]
  },
  {
   "cell_type": "code",
   "execution_count": null,
   "id": "78909cd7-b90c-4c3c-a009-eacecb80208e",
   "metadata": {},
   "outputs": [],
   "source": [
    "words = [\"god\", \"jesus\", \"mary\", \"joseph\", \"woman\", \"man\"]\n",
    "word_vectors = [model.wv[word] for word in words]\n",
    "\n",
    "pca = PCA(n_components=2)\n",
    "pca_result = pca.fit_transform(word_vectors)\n",
    "plt.figure(figsize=(12, 8))\n",
    "plt.scatter(pca_result[:, 0], pca_result[:, 1])\n",
    "for i, word in enumerate(words):\n",
    "    plt.annotate(word, (pca_result[i, 0], pca_result[i, 1]))\n",
    "\n",
    "plt.show()"
   ]
  }
 ],
 "metadata": {
  "kernelspec": {
   "display_name": "Python 3 (ipykernel)",
   "language": "python",
   "name": "python3"
  },
  "language_info": {
   "codemirror_mode": {
    "name": "ipython",
    "version": 3
   },
   "file_extension": ".py",
   "mimetype": "text/x-python",
   "name": "python",
   "nbconvert_exporter": "python",
   "pygments_lexer": "ipython3",
   "version": "3.11.9"
  }
 },
 "nbformat": 4,
 "nbformat_minor": 5
}
